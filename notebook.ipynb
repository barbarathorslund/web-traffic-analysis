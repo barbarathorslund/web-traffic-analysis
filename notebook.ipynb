{
 "cells": [
  {
   "cell_type": "markdown",
   "metadata": {},
   "source": [
    "# Project 2: Web Traffic Analysis\n",
    "**This is the second of three mandatory projects to be handed in as part of the assessment for the course 02807 Computational Tools for Data Science at Technical University of Denmark, autumn 2019.**"
   ]
  },
  {
   "cell_type": "markdown",
   "metadata": {},
   "source": [
    "## Introduction\n",
    "In this project your task is to analyze a stream of log entries. A log entry consists of an [IP address](https://en.wikipedia.org/wiki/IP_address) and a [domain name](https://en.wikipedia.org/wiki/Domain_name). For example, a log line may look as follows:\n",
    "\n",
    "`192.168.0.1 somedomain.dk`\n",
    "\n",
    "One log line is the result of the event that the domain name was visited by someone having the corresponding IP address. Your task is to analyze the traffic on a number of domains. Counting the number of unique IPs seen on a domain doesn't correspond to the exact number of unique visitors, but it is a good estimate.\n",
    "\n",
    "Specifically, you should answer the following questions from the stream of log entries.\n",
    "\n",
    "- How many unique IPs are there in the stream?\n",
    "- How many unique IPs are there for each domain?\n",
    "- How many times was IP X seen on domain Y? (for some X and Y provided at run time)\n",
    "\n",
    "**The answers to these questions can be approximate!**\n",
    "\n",
    "You should also try to answer one or more of the following, more advanced, questions. The answers to these should also be approximate.\n",
    "\n",
    "- How many unique IPs are there for the domains $d_1, d_2, \\ldots$?\n",
    "- How many times was IP X seen on domains $d_1, d_2, \\ldots$?\n",
    "- What are the X most frequent IPs in the stream?\n",
    "\n",
    "You should use algorithms and data structures that you've learned about in the lectures, and you should provide your own implementations of these.\n",
    "\n",
    "Furthermore, you are expected to:\n",
    "\n",
    "- Document the accuracy of your answers when using algorithms that give approximate answers\n",
    "- Argue why you are using certain parameters for your data structures\n",
    "\n",
    "This notebook is in three parts. In the first part you are given an example of how to read from the stream (which for the purpose of this project is a remote file). In the second part you should implement the algorithms and data structures that you intend to use, and in the last part you should use these for analyzing the stream."
   ]
  },
  {
   "cell_type": "markdown",
   "metadata": {},
   "source": [
    "## Reading the stream\n",
    "The following code reads a remote file line by line. It is wrapped in a generator to make it easier to extend. You may modify this if you want to, but your solution should remain parametrized, so that your notebook can be run without having to consume the entire file."
   ]
  },
  {
   "cell_type": "code",
   "execution_count": 1,
   "metadata": {},
   "outputs": [],
   "source": [
    "import urllib\n",
    "\n",
    "def stream(n):\n",
    "    i = 0\n",
    "    with urllib.request.urlopen('https://files.dtu.dk/fss/public/link/public/stream/read/traffic?linkToken=3pLwj8eS8I_MkvCK&itemName=traffic') as f:\n",
    "        for line in f:\n",
    "            element = line.rstrip().decode(\"utf-8\")\n",
    "            yield element\n",
    "            i += 1\n",
    "            if i == n:\n",
    "                break"
   ]
  },
  {
   "cell_type": "code",
   "execution_count": 2,
   "metadata": {},
   "outputs": [],
   "source": [
    "STREAM_SIZE = 1000\n",
    "web_traffic_stream = stream(STREAM_SIZE)"
   ]
  },
  {
   "cell_type": "markdown",
   "metadata": {},
   "source": [
    "## Data structures"
   ]
  },
  {
   "cell_type": "markdown",
   "metadata": {},
   "source": [
    "### Algorithms"
   ]
  },
  {
   "cell_type": "markdown",
   "metadata": {},
   "source": [
    "**Hyperloglog algorithm**"
   ]
  },
  {
   "cell_type": "markdown",
   "metadata": {},
   "source": [
    "The hyperloglog algorithm is utilized to approximate the amount of unique elements from a (potentially large) stream, while avoiding the allocation of alot of memory. The algorithm is implemented, following the presented principles in [F. Flajolet, Philippe, Fusy, Eric, Gandouet, Oliver, Meunier, “HyperLogLog: The analysis of a near-optimal cardinality estimation algorithm,” HAL, vol. 2, p. 21, 2015.], where the parameters b and m (which determines the complexity of the sketch) are decided based on an error argument. Moreover, it is decided to implement the algorithm as a class, HyperLogLog, making it possible to instantiate the algorithm as an object for the analysis."
   ]
  },
  {
   "cell_type": "code",
   "execution_count": 3,
   "metadata": {},
   "outputs": [],
   "source": [
    "import mmh3\n",
    "import math\n",
    "\n",
    "class HyperLogLog():\n",
    "    def __init__(self, error):\n",
    "        # Calculate parameters based on error\n",
    "        self.b = int(math.log(1.04/error**2, 2))\n",
    "        self.m = 2**self.b\n",
    "        \n",
    "        # Set error correction based on b\n",
    "        self.a = self.alpha(self.b)\n",
    "        \n",
    "        # Create empty bucket array\n",
    "        self.M = [0 for i in range(self.m+1)]\n",
    "        \n",
    "    def alpha(self, b):\n",
    "        # Error correction\n",
    "        if b == 4:\n",
    "            return 0.673\n",
    "        elif b == 5:\n",
    "            return 0.697\n",
    "        elif b == 6:\n",
    "            return 0.709\n",
    "        else:\n",
    "            return 0.7213 / (1.0 + 1.079 / self.m)\n",
    "        \n",
    "    def add(self, value):\n",
    "        # Find registry value and bucket value\n",
    "        x = '{:032b}'.format(mmh3.hash(value))\n",
    "        \n",
    "        #j = 1+int(x[:self.b],2)\n",
    "        j = int(x, 2) & (self.m - 1)\n",
    "\n",
    "        w = 1 + x[self.b:].find(\"1\")\n",
    "        \n",
    "        self.M[j] = max(self.M[j], w)\n",
    "        \n",
    "    def result(self):\n",
    "        # Return the cardinality\n",
    "        Z = 1 / sum([2**-self.M[j] for j in range(self.m)])\n",
    "    \n",
    "        return int(self.a * self.m**2 * Z)"
   ]
  },
  {
   "cell_type": "markdown",
   "metadata": {},
   "source": [
    "**CountMin algorithm**"
   ]
  },
  {
   "cell_type": "markdown",
   "metadata": {},
   "source": [
    "The CountMin algorithm is utilized to approxiamtely count the occurence of specific elements from a (potentially large) stream, while avoiding the allocation of alot of memory. The algorithm is implemented, following the presented principles in [S. Cormode, Graham, Muthukristnan, “An Improved Data Stream Summary: The Count-Min Sketch and its Application,” Elsevier Sci., p. 18, 2003.], where the parameters d and w (which determines the complexity of the sketch) are decided based on an error argument. Moreover, it is decided to implement the algorithm as a class, CountMin, making it possible to instantiate the algorithm as an object for the analysis."
   ]
  },
  {
   "cell_type": "code",
   "execution_count": 4,
   "metadata": {},
   "outputs": [],
   "source": [
    "import mmh3\n",
    "import math\n",
    "import random\n",
    "import numpy as np\n",
    "\n",
    "class CountMin():\n",
    "    def __init__(self, error):\n",
    "        # Create array by error\n",
    "        self.w = int(2/(error/100))\n",
    "        self.d = int(math.log(error/100)/math.log(1/2))\n",
    "\n",
    "        self.M = np.zeros((self.d, self.w))\n",
    "\n",
    "        # Create random seeds for the hashing\n",
    "        self.seeds = [random.randint(1,self.w*self.d) for i in range(self.d)]\n",
    "        \n",
    "    def add(self, value):\n",
    "        # Fill value into the matrix\n",
    "        for i in range(self.d):\n",
    "            self.M[i][mmh3.hash(value, seed=self.seeds[i]) % self.w] += 1\n",
    " \n",
    "    def result(self, query):\n",
    "        # Return lowest value fron the matrix\n",
    "        min_value = None\n",
    "        for i in range(self.d):\n",
    "            index = self.M[i][mmh3.hash(query, seed=self.seeds[i]) % self.w]\n",
    "            if not min_value:\n",
    "                min_value = index\n",
    "            min_value = min(min_value, index)\n",
    "            \n",
    "        return min_value"
   ]
  },
  {
   "cell_type": "markdown",
   "metadata": {},
   "source": [
    "### Additional functions and classes"
   ]
  },
  {
   "cell_type": "markdown",
   "metadata": {},
   "source": [
    "Before being able to answer the questions for the analysis, some additional functions and classes are needed.\n",
    "The functions implemented here are for documenting the accuracy of the approximate answers retrieved from the algorithms. First, we implement a get_accuracy function."
   ]
  },
  {
   "cell_type": "code",
   "execution_count": 5,
   "metadata": {},
   "outputs": [],
   "source": [
    "def get_accuracy(obs_value, true_value):\n",
    "    # Returns the accuracy\n",
    "    result = (100-abs(obs_value-true_value)/true_value*100)\n",
    "    \n",
    "    return result"
   ]
  },
  {
   "cell_type": "markdown",
   "metadata": {},
   "source": [
    "A class, StreamSampler, is implemented, which serves the purpose of storing results at specific iteration points (given as argument, percentage), such that we obtain sample data throughout the stream."
   ]
  },
  {
   "cell_type": "code",
   "execution_count": 6,
   "metadata": {},
   "outputs": [],
   "source": [
    "class StreamSampler():\n",
    "    def __init__(self, n, percentage):\n",
    "        self.sample = list()\n",
    "        self.percentage = percentage\n",
    "        self.c = int()\n",
    "        self.n = n\n",
    "        \n",
    "    def time_for_sample(self):\n",
    "        # True when point should be stored\n",
    "        self.c += 1\n",
    "        \n",
    "        if self.c % int(self.n*self.percentage) == 0 or self.c == self.n-1:\n",
    "            return True\n",
    "        else:\n",
    "            return False\n",
    "        \n",
    "    def get_sample(self):\n",
    "        # Returns the stored sample\n",
    "        return self.sample\n",
    "        \n",
    "    def add(self, result):\n",
    "        # Add value to the sample\n",
    "        self.sample.append(result)"
   ]
  },
  {
   "cell_type": "markdown",
   "metadata": {},
   "source": [
    "A function for plotting the accuracy (with arguments: observed sample (obtained using our algorithm) and the true sample (containing true values)) is made aswell."
   ]
  },
  {
   "cell_type": "code",
   "execution_count": 7,
   "metadata": {},
   "outputs": [],
   "source": [
    "import matplotlib.pyplot as plt\n",
    "\n",
    "def plot_accuracy(obs_sample, true_sample):\n",
    "    y = list()\n",
    "    \n",
    "    # Calculate the accuracy based of observation values and true values\n",
    "    for obs_value, true_value in zip(obs_sample.get_sample(), true_sample.get_sample()):\n",
    "        y.append(get_accuracy(obs_value, true_value))\n",
    "\n",
    "    x = [STREAM_SIZE*(i/10) for i in range(len(y))]\n",
    "\n",
    "    # Plots x, y values with additional configurations\n",
    "    plt.style.use('seaborn-darkgrid')\n",
    "    \n",
    "    plt.figure(figsize=(10,5))\n",
    "    plt.plot(x, y, marker='o')\n",
    "    plt.xlabel(\"Stream size\")\n",
    "    plt.ylabel(\"Accuracy (%)\")\n",
    "    \n",
    "    plt.ylim(0, 110)\n",
    "    plt.xlim(0, STREAM_SIZE+1)\n",
    "\n",
    "    plt.show()"
   ]
  },
  {
   "cell_type": "markdown",
   "metadata": {},
   "source": [
    "## Analysis"
   ]
  },
  {
   "cell_type": "markdown",
   "metadata": {},
   "source": [
    "Libraries are imported for the analysis"
   ]
  },
  {
   "cell_type": "code",
   "execution_count": 8,
   "metadata": {},
   "outputs": [],
   "source": [
    "import statistics\n",
    "from collections import Counter"
   ]
  },
  {
   "cell_type": "markdown",
   "metadata": {},
   "source": [
    "The desired stream size for the analysis is set to 200000, since we want a stream which is not too small for testing"
   ]
  },
  {
   "cell_type": "code",
   "execution_count": 9,
   "metadata": {},
   "outputs": [],
   "source": [
    "STREAM_SIZE = 200000"
   ]
  },
  {
   "cell_type": "markdown",
   "metadata": {},
   "source": [
    "A function to retrieve the generator is created. The global variable STREAM_SIZE is set as default , while it is still possible to call for a smaller stream size than the default size."
   ]
  },
  {
   "cell_type": "code",
   "execution_count": 10,
   "metadata": {},
   "outputs": [],
   "source": [
    "def get_stream(n = STREAM_SIZE):\n",
    "    # Returns a stream of size n\n",
    "    web_traffic_stream = stream(n)\n",
    "    \n",
    "    return web_traffic_stream"
   ]
  },
  {
   "cell_type": "markdown",
   "metadata": {},
   "source": [
    "### How many unique IPs are there in the stream?"
   ]
  },
  {
   "cell_type": "markdown",
   "metadata": {},
   "source": [
    "The Hyperloglog algorithm is used to answer this question. An error of 0.05 (5%) is choosen, which is to be considered a appropriate value, considering the parameters determined from this (as described earlier)."
   ]
  },
  {
   "cell_type": "code",
   "execution_count": 11,
   "metadata": {},
   "outputs": [
    {
     "name": "stdout",
     "output_type": "stream",
     "text": [
      "Result: 196895\n"
     ]
    }
   ],
   "source": [
    "obs_sample = StreamSampler(STREAM_SIZE, 0.1)\n",
    "\n",
    "hll = HyperLogLog(0.05)\n",
    "for element in get_stream():\n",
    "    # Fill hyperlolog\n",
    "    ip_address = element.split(\"\\t\")[0]\n",
    "    hll.add(ip_address)\n",
    "    \n",
    "    # Sampling\n",
    "    if obs_sample.time_for_sample():\n",
    "        obs_sample.add(hll.result())\n",
    "\n",
    "# Display last value of the sampling\n",
    "print(\"Result:\", obs_sample.get_sample()[-1])"
   ]
  },
  {
   "cell_type": "markdown",
   "metadata": {},
   "source": [
    "#### Documentation of accuracy"
   ]
  },
  {
   "cell_type": "markdown",
   "metadata": {},
   "source": [
    "To be able to document the accuracy, the true value is determined"
   ]
  },
  {
   "cell_type": "code",
   "execution_count": 12,
   "metadata": {},
   "outputs": [
    {
     "name": "stdout",
     "output_type": "stream",
     "text": [
      "Result: 199979\n"
     ]
    }
   ],
   "source": [
    "true_sample = StreamSampler(STREAM_SIZE, 0.1)\n",
    "\n",
    "unique_counter = list()\n",
    "\n",
    "for element in get_stream():\n",
    "    # Fill list to count uniques\n",
    "    ip_address = element.split(\"\\t\")[0]\n",
    "    unique_counter.append(ip_address)\n",
    "    \n",
    "    # Sampling\n",
    "    if true_sample.time_for_sample():\n",
    "        true_sample.add(len(Counter(unique_counter).keys()))\n",
    "\n",
    "# Display last value of the sampling\n",
    "print(\"Result:\", true_sample.get_sample()[-1])"
   ]
  },
  {
   "cell_type": "markdown",
   "metadata": {},
   "source": [
    "The accuracy is then plotted for each 10% of the elements throughout the stream of size 200000"
   ]
  },
  {
   "cell_type": "code",
   "execution_count": 13,
   "metadata": {
    "scrolled": true
   },
   "outputs": [
    {
     "data": {
      "image/png": "[encoded data removed]",
      "text/plain": [
       "<Figure size 720x360 with 1 Axes>"
      ]
     },
     "metadata": {},
     "output_type": "display_data"
    }
   ],
   "source": [
    "plot_accuracy(obs_sample, true_sample)"
   ]
  },
  {
   "cell_type": "markdown",
   "metadata": {},
   "source": [
    "From this, it is apparent that the algorithm satisfies the 5% error which has been specified for this specific query.\n",
    "Also, it is noticeable that almost all IPs in the stream are unique. "
   ]
  },
  {
   "cell_type": "markdown",
   "metadata": {},
   "source": [
    "### How many unique IPs are there for each domain?"
   ]
  },
  {
   "cell_type": "markdown",
   "metadata": {},
   "source": [
    "The Hyperloglog algorithm is used to answer this question. First off, each domain is hashed to avoid potential infinite memory usage. Then Hyperloglog is used to count the unique IPs for each domain. Also, an error of 0.05 (5%) is choosen for the HLL, which is to be considered a appropriate value, considering the parameters determined from this (as described earlier). "
   ]
  },
  {
   "cell_type": "code",
   "execution_count": 14,
   "metadata": {},
   "outputs": [
    {
     "name": "stdout",
     "output_type": "stream",
     "text": [
      "Result: 22671.56\n"
     ]
    }
   ],
   "source": [
    "obs_sample = StreamSampler(STREAM_SIZE, 0.1)\n",
    "\n",
    "domains = dict()\n",
    "\n",
    "for element in get_stream():\n",
    "    element = element.split(\"\\t\")\n",
    "    \n",
    "    ip_address = element[0]\n",
    "\n",
    "    # Hash domain in case of high occurences of domains\n",
    "    domain = mmh3.hash(element[1])\n",
    "    \n",
    "    # Hyperloglog to count uniques in each domain\n",
    "    if domain not in domains:\n",
    "        domains[domain] = HyperLogLog(0.05)\n",
    "    \n",
    "    domains[domain].add(ip_address)\n",
    "\n",
    "    # Sampling\n",
    "    if obs_sample.time_for_sample():\n",
    "        sum_uniques = sum([v.result() for v in domains.values()])\n",
    "        len_domains = len(domains)\n",
    "        \n",
    "        obs_sample.add(sum_uniques / len_domains)\n",
    "        \n",
    "# Display last value of the sampling\n",
    "print(\"Result:\", round(obs_sample.get_sample()[-1],2))"
   ]
  },
  {
   "cell_type": "markdown",
   "metadata": {},
   "source": [
    "#### Documentation of accuracy"
   ]
  },
  {
   "cell_type": "markdown",
   "metadata": {},
   "source": [
    "To be able to document the accuracy, the true value is determined"
   ]
  },
  {
   "cell_type": "code",
   "execution_count": 15,
   "metadata": {},
   "outputs": [
    {
     "name": "stdout",
     "output_type": "stream",
     "text": [
      "Result: 22221.11\n"
     ]
    }
   ],
   "source": [
    "true_sample = StreamSampler(STREAM_SIZE, 0.1)\n",
    "\n",
    "domains = dict()\n",
    "\n",
    "for element in get_stream():\n",
    "    element = element.split(\"\\t\")\n",
    "    \n",
    "    ip_address = element[0]\n",
    "    \n",
    "    # Hash domain in case of high occurences of domains\n",
    "    domain = mmh3.hash(element[1])\n",
    "    \n",
    "    if domain not in domains:\n",
    "        domains[domain] = list()\n",
    "        \n",
    "    domains[domain].append(ip_address)\n",
    "\n",
    "    # Sampling\n",
    "    if true_sample.time_for_sample():\n",
    "        uniques = int()\n",
    "        \n",
    "        for k, v in domains.items():\n",
    "            uniques += len(Counter(v).keys())\n",
    "\n",
    "        true_sample.add(uniques / len(domains))\n",
    "\n",
    "# Display last value of the sampling\n",
    "print(\"Result:\", round(true_sample.get_sample()[-1],2))"
   ]
  },
  {
   "cell_type": "markdown",
   "metadata": {},
   "source": [
    "The accuracy is then plotted for each 10% of the elements throughout the stream of size 200000"
   ]
  },
  {
   "cell_type": "code",
   "execution_count": 16,
   "metadata": {
    "scrolled": true
   },
   "outputs": [
    {
     "data": {
      "image/png": "[encoded data removed]",
      "text/plain": [
       "<Figure size 720x360 with 1 Axes>"
      ]
     },
     "metadata": {},
     "output_type": "display_data"
    }
   ],
   "source": [
    "plot_accuracy(obs_sample, true_sample)"
   ]
  },
  {
   "cell_type": "markdown",
   "metadata": {},
   "source": [
    "From this, it is apparent that the algorithm satisfies the 5% error which has been specified for this specific query."
   ]
  },
  {
   "cell_type": "markdown",
   "metadata": {},
   "source": [
    "### How many times was IP X seen on domain Y? (for some X and Y provided at run time)"
   ]
  },
  {
   "cell_type": "markdown",
   "metadata": {},
   "source": [
    "The first element of the stream is displayed. The IP and domain for this element will be used to answer the following question."
   ]
  },
  {
   "cell_type": "code",
   "execution_count": 17,
   "metadata": {},
   "outputs": [
    {
     "name": "stdout",
     "output_type": "stream",
     "text": [
      "41.17.190.142\twikipedia.org\n"
     ]
    }
   ],
   "source": [
    "domain_query = None\n",
    "ip_query = None\n",
    "\n",
    "for element in get_stream(1):\n",
    "    print(element)\n",
    "    ip_address, domain = element.split(\"\\t\")\n",
    "    \n",
    "    ip_query = ip_address \n",
    "    domain_query = domain"
   ]
  },
  {
   "cell_type": "markdown",
   "metadata": {},
   "source": [
    "The CountMin algorithm is used to answer this question. An error of 0.01 (1%) is choosen, which is to be considered a appropriate value, considering the parameters determined from this (as described earlier). Also, the error is choosen to be smaller (1%) since it has been found in the first question that almost all IPs in the stream are unique. Thus, it is not expected that the same IP X is seen many times on a specific domain Y."
   ]
  },
  {
   "cell_type": "code",
   "execution_count": 18,
   "metadata": {},
   "outputs": [
    {
     "name": "stdout",
     "output_type": "stream",
     "text": [
      "wikipedia.org 41.17.190.142\n",
      "Result: 4.0\n"
     ]
    }
   ],
   "source": [
    "obs_sample = StreamSampler(STREAM_SIZE, 0.1)\n",
    "\n",
    "domains = dict()\n",
    "\n",
    "for element in get_stream():\n",
    "    element = element.split(\"\\t\")\n",
    "    \n",
    "    ip_address = element[0]\n",
    "    \n",
    "    # Hash domain in case of high occurences of domains\n",
    "    domain = mmh3.hash(element[1])\n",
    "    \n",
    "    # Count occurences with countmin\n",
    "    if domain not in domains:\n",
    "        domains[domain] = CountMin(0.01)\n",
    "    \n",
    "    domains[domain].add(ip_address)\n",
    "    \n",
    "    # Sampling\n",
    "    if obs_sample.time_for_sample():\n",
    "        obs_sample.add(domains[mmh3.hash(domain_query)].result(ip_query))\n",
    "\n",
    "# Display last value of the sampling\n",
    "print(domain_query, ip_query)\n",
    "print(\"Result:\", obs_sample.get_sample()[-1])"
   ]
  },
  {
   "cell_type": "markdown",
   "metadata": {},
   "source": [
    "#### Documentation of accuracy"
   ]
  },
  {
   "cell_type": "markdown",
   "metadata": {},
   "source": [
    "To be able to document the accuracy, the true value is determined"
   ]
  },
  {
   "cell_type": "code",
   "execution_count": 19,
   "metadata": {},
   "outputs": [
    {
     "name": "stdout",
     "output_type": "stream",
     "text": [
      "wikipedia.org 41.17.190.142\n",
      "Result: 1\n"
     ]
    }
   ],
   "source": [
    "true_sample = StreamSampler(STREAM_SIZE, 0.1)\n",
    "\n",
    "domains = dict()\n",
    "\n",
    "for element in get_stream():\n",
    "    element = element.split(\"\\t\")\n",
    "    \n",
    "    ip_address = element[0]\n",
    "    \n",
    "    # Hash domain in case of high occurences of domains\n",
    "    domain = mmh3.hash(element[1])\n",
    "    \n",
    "    # Count the occurences in domains\n",
    "    if domain not in domains:\n",
    "        domains[domain] = dict()\n",
    "        \n",
    "    if ip_address not in domains[domain]:\n",
    "        domains[domain][ip_address] = int()\n",
    "        \n",
    "    domains[domain][ip_address] += 1\n",
    "    \n",
    "    # Sampling\n",
    "    if true_sample.time_for_sample():\n",
    "        if ip_query in domains[mmh3.hash(domain_query)]:\n",
    "            true_sample.add(domains[mmh3.hash(domain_query)][ip_query])\n",
    "        else:\n",
    "            true_sample.add(0)\n",
    "\n",
    "# Display last value of the sampling\n",
    "print(domain_query, ip_query)\n",
    "print(\"Result:\", true_sample.get_sample()[-1])"
   ]
  },
  {
   "cell_type": "markdown",
   "metadata": {},
   "source": [
    "The accuracy is then plotted for each 10% of the elements throughout the stream of size 200000"
   ]
  },
  {
   "cell_type": "code",
   "execution_count": 20,
   "metadata": {},
   "outputs": [
    {
     "data": {
      "image/png": "[encoded data removed]",
      "text/plain": [
       "<Figure size 720x360 with 1 Axes>"
      ]
     },
     "metadata": {},
     "output_type": "display_data"
    }
   ],
   "source": [
    "plot_accuracy(obs_sample, true_sample)"
   ]
  },
  {
   "cell_type": "markdown",
   "metadata": {},
   "source": [
    "It is apparent that the accuracy suddenly drops. Let's look at the actual values (from the algorithm and the true values) which we get throughout the stream"
   ]
  },
  {
   "cell_type": "code",
   "execution_count": 21,
   "metadata": {},
   "outputs": [
    {
     "name": "stdout",
     "output_type": "stream",
     "text": [
      "Observed values(algorithm): [1, 1, 1, 1, 1, 1, 1, 2, 3, 4, 4]\n",
      "True values in the stream: [1, 1, 1, 1, 1, 1, 1, 1, 1, 1, 1]\n"
     ]
    }
   ],
   "source": [
    "print(\"Observed values(algorithm):\", list(map(lambda x: int(x), obs_sample.get_sample())))\n",
    "print(\"True values in the stream:\", true_sample.get_sample())"
   ]
  },
  {
   "cell_type": "markdown",
   "metadata": {},
   "source": [
    "Looking at this, it is clear why the accuracy suddenly drops. As expected, the true values are very small, and thus there is not much 'room' for errors when the algorithm is estimating, in regards to the calculated accuracy. "
   ]
  },
  {
   "cell_type": "markdown",
   "metadata": {},
   "source": [
    "### How many unique IPs are there for the domains 𝑑1,𝑑2,…?"
   ]
  },
  {
   "cell_type": "markdown",
   "metadata": {},
   "source": [
    "The Hyperloglog algorithm is used to answer this question. An error of 0.05 (5%) is choosen, which is to be considered a appropriate value, considering the parameters determined from this (as described earlier)."
   ]
  },
  {
   "cell_type": "code",
   "execution_count": 22,
   "metadata": {},
   "outputs": [],
   "source": [
    "obs_sample = StreamSampler(STREAM_SIZE, 0.1)\n",
    "\n",
    "domains = dict()\n",
    "\n",
    "for element in get_stream():\n",
    "    element = element.split(\"\\t\")\n",
    "    \n",
    "    ip_address = element[0]\n",
    "    \n",
    "    # Hash domain in case of high occurences of domains\n",
    "    domain = mmh3.hash(element[1])\n",
    "    \n",
    "    # Count uniques for each domain by hyperloglog\n",
    "    if domain not in domains:\n",
    "        domains[domain] = HyperLogLog(0.05)\n",
    "    \n",
    "    domains[domain].add(ip_address)\n",
    "\n",
    "    # Sampling\n",
    "    if obs_sample.time_for_sample():\n",
    "        result = statistics.mean([x.result() for x in domains.values()])\n",
    "        obs_sample.add(result)"
   ]
  },
  {
   "cell_type": "code",
   "execution_count": 23,
   "metadata": {},
   "outputs": [
    {
     "name": "stdout",
     "output_type": "stream",
     "text": [
      "D0: 108520 unique IP(s)\n",
      "D1: 25601 unique IP(s)\n",
      "D2: 53012 unique IP(s)\n",
      "D3: 916 unique IP(s)\n",
      "D4: 5169 unique IP(s)\n",
      "D5: 5241 unique IP(s)\n",
      "D6: 2508 unique IP(s)\n",
      "D7: 2537 unique IP(s)\n",
      "D8: 540 unique IP(s)\n"
     ]
    }
   ],
   "source": [
    "# Print unique IPs foreach domain\n",
    "c = int()\n",
    "for k, v in domains.items():\n",
    "    print(\"D{}: {} unique IP(s)\".format(c, v.result()))\n",
    "    c += 1"
   ]
  },
  {
   "cell_type": "markdown",
   "metadata": {},
   "source": [
    "#### Documentation of accuracy"
   ]
  },
  {
   "cell_type": "markdown",
   "metadata": {},
   "source": [
    "To be able to document the accuracy, the true values are determined. The accuracy is calculated based on the mean of the results, obtained using the algorithm and the true values respectively."
   ]
  },
  {
   "cell_type": "code",
   "execution_count": 24,
   "metadata": {},
   "outputs": [],
   "source": [
    "true_sample = StreamSampler(STREAM_SIZE, 0.1)\n",
    "\n",
    "domains = dict()\n",
    "\n",
    "for element in get_stream():\n",
    "    element = element.split(\"\\t\")\n",
    "    \n",
    "    ip_address = element[0]\n",
    "    \n",
    "    # Hash domain in case of high occurences of domains\n",
    "    domain = mmh3.hash(element[1])\n",
    "    \n",
    "    # Uniques ip address count by each doamin\n",
    "    if domain not in domains:\n",
    "        domains[domain] = list()\n",
    "    \n",
    "    domains[domain].append(ip_address)\n",
    "\n",
    "    # Sampling\n",
    "    if true_sample.time_for_sample():\n",
    "        result = statistics.mean([len(Counter(v).keys()) for _, v in domains.items()])\n",
    "        true_sample.add(result)"
   ]
  },
  {
   "cell_type": "code",
   "execution_count": 25,
   "metadata": {},
   "outputs": [
    {
     "name": "stdout",
     "output_type": "stream",
     "text": [
      "D0: 104550 unique IP(s)\n",
      "D1: 26155 unique IP(s)\n",
      "D2: 51952 unique IP(s)\n",
      "D3: 1059 unique IP(s)\n",
      "D4: 5243 unique IP(s)\n",
      "D5: 5181 unique IP(s)\n",
      "D6: 2669 unique IP(s)\n",
      "D7: 2664 unique IP(s)\n",
      "D8: 517 unique IP(s)\n"
     ]
    }
   ],
   "source": [
    "# Print unique IPs foreach domain\n",
    "c = int()\n",
    "for k, v in domains.items():\n",
    "    print(\"D{}: {} unique IP(s)\".format(c, len(Counter(v).keys())))\n",
    "    c += 1"
   ]
  },
  {
   "cell_type": "markdown",
   "metadata": {},
   "source": [
    "The accuracy is then plotted for each 10% of the elements throughout the stream of size 200000"
   ]
  },
  {
   "cell_type": "code",
   "execution_count": 26,
   "metadata": {},
   "outputs": [
    {
     "data": {
      "image/png": "[encoded data removed]",
      "text/plain": [
       "<Figure size 720x360 with 1 Axes>"
      ]
     },
     "metadata": {},
     "output_type": "display_data"
    }
   ],
   "source": [
    "plot_accuracy(obs_sample, true_sample)"
   ]
  },
  {
   "cell_type": "markdown",
   "metadata": {},
   "source": [
    "From this, it is apparent that the algorithm satisfies the 5% error which has been specified for this specific query."
   ]
  },
  {
   "cell_type": "markdown",
   "metadata": {},
   "source": [
    "### How many times was IP X seen on domains 𝑑1,𝑑2,…?"
   ]
  },
  {
   "cell_type": "markdown",
   "metadata": {},
   "source": [
    "The CountMin algorithm is used to answer this question. An error of 0.1 (1%) is choosen, which is to be considered a appropriate value, considering the parameters determined from this (as described earlier). Also, the error is choosen to be smaller (1%) since it has been found in the first question that almost all IPs in the stream are unique. Thus, it is not expected that the same IP x is seen many times on the different domains."
   ]
  },
  {
   "cell_type": "code",
   "execution_count": 27,
   "metadata": {
    "scrolled": true
   },
   "outputs": [
    {
     "name": "stdout",
     "output_type": "stream",
     "text": [
      "41.17.190.142\n"
     ]
    }
   ],
   "source": [
    "ip_query = None\n",
    "\n",
    "for element in get_stream(1):\n",
    "    ip_query = element.split(\"\\t\")[0]\n",
    "    \n",
    "print(ip_query)"
   ]
  },
  {
   "cell_type": "code",
   "execution_count": 28,
   "metadata": {},
   "outputs": [],
   "source": [
    "obs_sample = StreamSampler(STREAM_SIZE, 0.1)\n",
    "\n",
    "domains = dict()\n",
    "\n",
    "for element in get_stream():\n",
    "    element = element.split(\"\\t\")\n",
    "    \n",
    "    ip_address = element[0]\n",
    "    \n",
    "    # Hash domain in case of high occurences of domains\n",
    "    domain = mmh3.hash(element[1])\n",
    "    \n",
    "    # Count ips by countmin\n",
    "    if domain not in domains:\n",
    "        domains[domain] = CountMin(0.01)\n",
    "    \n",
    "    domains[domain].add(ip_address)\n",
    "    \n",
    "    # Sampling\n",
    "    if obs_sample.time_for_sample():\n",
    "        result = statistics.mean([v.result(ip_query) for _, v in domains.items()])\n",
    "        obs_sample.add(result)"
   ]
  },
  {
   "cell_type": "code",
   "execution_count": 29,
   "metadata": {},
   "outputs": [
    {
     "name": "stdout",
     "output_type": "stream",
     "text": [
      "D0: 3.0 unique IP(s)\n",
      "D1: 2.0 unique IP(s)\n",
      "D2: 1.0 unique IP(s)\n",
      "D3: 0.0 unique IP(s)\n",
      "D4: 0.0 unique IP(s)\n",
      "D5: 1.0 unique IP(s)\n",
      "D6: 0.0 unique IP(s)\n",
      "D7: 0.0 unique IP(s)\n",
      "D8: 1.0 unique IP(s)\n"
     ]
    }
   ],
   "source": [
    "# Print unique IPs foreach domain\n",
    "c = int()\n",
    "for k, v in domains.items():\n",
    "    print(\"D{}: {} unique IP(s)\".format(c, v.result(ip_query)))\n",
    "    c += 1"
   ]
  },
  {
   "cell_type": "markdown",
   "metadata": {},
   "source": [
    "#### Documentation of accuracy"
   ]
  },
  {
   "cell_type": "markdown",
   "metadata": {},
   "source": [
    "To be able to document the accuracy, the true values are determined. The accuracy is calculated based on the mean of the results obtained using the algorithm and the true values respectively."
   ]
  },
  {
   "cell_type": "code",
   "execution_count": 30,
   "metadata": {},
   "outputs": [],
   "source": [
    "true_sample = StreamSampler(STREAM_SIZE, 0.1)\n",
    "\n",
    "domains = dict()\n",
    "\n",
    "for element in get_stream():\n",
    "    element = element.split(\"\\t\")\n",
    "    \n",
    "    ip_address = element[0]\n",
    "    \n",
    "    # Hash domain in case of high occurences of domains\n",
    "    domain = mmh3.hash(element[1])\n",
    "    \n",
    "    # Count unique ips for each domain\n",
    "    if domain not in domains:\n",
    "        domains[domain] = dict()\n",
    "        \n",
    "    if ip_address not in domains[domain]:\n",
    "        domains[domain][ip_address] = int()\n",
    "        \n",
    "    domains[domain][ip_address] += 1\n",
    "        \n",
    "    # Sampling\n",
    "    if true_sample.time_for_sample():\n",
    "        result = int()\n",
    "        for key, value in domains.items():\n",
    "            if ip_query in value:\n",
    "                result += value[ip_query]\n",
    "        true_sample.add(result)"
   ]
  },
  {
   "cell_type": "code",
   "execution_count": 31,
   "metadata": {},
   "outputs": [
    {
     "name": "stdout",
     "output_type": "stream",
     "text": [
      "D0: 1 unique IP(s)\n",
      "D1: 0 unique IP(s)\n",
      "D2: 0 unique IP(s)\n",
      "D3: 0 unique IP(s)\n",
      "D4: 0 unique IP(s)\n",
      "D5: 0 unique IP(s)\n",
      "D6: 0 unique IP(s)\n",
      "D7: 0 unique IP(s)\n",
      "D8: 0 unique IP(s)\n"
     ]
    }
   ],
   "source": [
    "# Print unique IPs foreach domain\n",
    "c = int()\n",
    "for key, value in domains.items():\n",
    "    if ip_query not in value:\n",
    "        value[ip_query] = 0\n",
    "    print(\"D{}: {} unique IP(s)\".format(c, value[ip_query]))\n",
    "    c += 1"
   ]
  },
  {
   "cell_type": "markdown",
   "metadata": {},
   "source": [
    "The accuracy is then plotted for each 10% of the elements throughout the stream of size 200000"
   ]
  },
  {
   "cell_type": "code",
   "execution_count": 32,
   "metadata": {},
   "outputs": [
    {
     "data": {
      "image/png": "[encoded data removed]",
      "text/plain": [
       "<Figure size 720x360 with 1 Axes>"
      ]
     },
     "metadata": {},
     "output_type": "display_data"
    }
   ],
   "source": [
    "plot_accuracy(obs_sample, true_sample)"
   ]
  },
  {
   "cell_type": "markdown",
   "metadata": {},
   "source": [
    "Looking at this, it is apparent that the accuracy is not that great throughout the stream. We have a scenario which is somewhat the same as in the question 'How many times was IP X seen on domain Y?'. Again, the true values are very small, and thus there is not much 'room' for errors when the algorithm is estimating, in regards to the calculated accuracy. "
   ]
  },
  {
   "cell_type": "markdown",
   "metadata": {},
   "source": [
    "### What are the X most frequent IPs in the stream?"
   ]
  },
  {
   "cell_type": "markdown",
   "metadata": {},
   "source": [
    "The CountMin algorithm is used to answer this question. An error of 0.001 (0.1%) is choosen, which is to be considered a appropriate value, considering the parameters determined from this (as described earlier). Also, the error is choosen to be smaller (0.1%) since it has been found in the first question that almost all IPs in the stream are unique. Thus, it is not expected that the same IP X is seen many times. The CountMin algorithm is used such that an array of size k stores the maximum k elements found in the stream."
   ]
  },
  {
   "cell_type": "code",
   "execution_count": 33,
   "metadata": {
    "scrolled": false
   },
   "outputs": [],
   "source": [
    "obs_sample = StreamSampler(STREAM_SIZE, 0.1)\n",
    "\n",
    "#K-elements (X)\n",
    "k = 5\n",
    "\n",
    "# Element and amount list\n",
    "table = [[str()] * k, [0] * k]\n",
    "\n",
    "# Use count min algorithm on the stream\n",
    "count_min = CountMin(0.001)\n",
    "\n",
    "for element in get_stream():\n",
    "    # Add ip address to count\n",
    "    ip_address = element.split(\"\\t\")[0]\n",
    "    count_min.add(ip_address)\n",
    "    \n",
    "    # Replace min value with higher\n",
    "    current_count = count_min.result(ip_address)\n",
    "    \n",
    "    if min(table[1]) < current_count:\n",
    "        idx = table[1].index(min(table[1]))\n",
    "    \n",
    "        table[0][idx] = ip_address\n",
    "        table[1][idx] = current_count\n",
    "\n",
    "    # Sampling\n",
    "    if obs_sample.time_for_sample():\n",
    "        obs_sample.add(statistics.mean(table[1]))"
   ]
  },
  {
   "cell_type": "code",
   "execution_count": 34,
   "metadata": {
    "scrolled": true
   },
   "outputs": [
    {
     "name": "stdout",
     "output_type": "stream",
     "text": [
      "Most frequent IP(s)\n",
      "188.127.109.87 2.0\n",
      "91.140.120.76 2.0\n",
      "152.84.55.111 2.0\n",
      "63.159.77.71 2.0\n",
      "140.98.93.101 2.0\n"
     ]
    }
   ],
   "source": [
    "# Display maximum seen k elements\n",
    "print(\"Most frequent IP(s)\")\n",
    "for ip, count in zip(table[0],table[1]):\n",
    "    print(ip,count)"
   ]
  },
  {
   "cell_type": "markdown",
   "metadata": {},
   "source": [
    "#### Documentation of accuracy"
   ]
  },
  {
   "cell_type": "markdown",
   "metadata": {},
   "source": [
    "To be able to document the accuracy, the true value is determined. The accuracy is calculated based on the mean of the occurences. The true values are found by sorting based on the occurences and retrieving the first x (k) elements of the sorted list. In comparison, when using the max seen occurences algorithm, the max occurences aren't sorted. Thus, if there are more elements of the same occurences than the X retrieved elements (which is to be expected in this case), we might have a problem. This might result in the two methods giving different results, but only in regards to the specific IPs, and not the frequencies."
   ]
  },
  {
   "cell_type": "code",
   "execution_count": 35,
   "metadata": {
    "scrolled": true
   },
   "outputs": [],
   "source": [
    "true_sample = StreamSampler(STREAM_SIZE, 0.1)\n",
    "\n",
    "domain = dict()\n",
    "\n",
    "for element in get_stream():\n",
    "    element = element.split(\"\\t\")\n",
    "    \n",
    "    ip_address = element[0]\n",
    "    \n",
    "    if ip_address not in domain:\n",
    "        domain[ip_address] = int()\n",
    "        \n",
    "    domain[ip_address] += 1\n",
    "\n",
    "    if true_sample.time_for_sample():\n",
    "        result = statistics.mean(sorted(domain.values(), reverse=True)[:k])\n",
    "        true_sample.add(result)"
   ]
  },
  {
   "cell_type": "code",
   "execution_count": 36,
   "metadata": {},
   "outputs": [
    {
     "name": "stdout",
     "output_type": "stream",
     "text": [
      "121.93.192.192 2\n",
      "188.127.109.87 2\n",
      "154.113.126.169 2\n",
      "91.140.120.76 2\n",
      "156.159.143.146 2\n"
     ]
    }
   ],
   "source": [
    "# Display most frequent values\n",
    "for element in sorted(domain.keys(), key=domain.get, reverse=True)[:k]:\n",
    "    print(element, domain[element])"
   ]
  },
  {
   "cell_type": "markdown",
   "metadata": {},
   "source": [
    "The accuracy is then plotted for each 10% of the elements throughout the stream of size 200000"
   ]
  },
  {
   "cell_type": "code",
   "execution_count": 37,
   "metadata": {},
   "outputs": [
    {
     "data": {
      "image/png": "[encoded data removed]",
      "text/plain": [
       "<Figure size 720x360 with 1 Axes>"
      ]
     },
     "metadata": {},
     "output_type": "display_data"
    }
   ],
   "source": [
    "plot_accuracy(obs_sample, true_sample)"
   ]
  },
  {
   "cell_type": "markdown",
   "metadata": {},
   "source": [
    "It is apparent that the two results (obtained using the algorithm and the true values respectively) indeed gives different results, but only in regards to the specific IPs, and not the frequencies."
   ]
  }
 ],
 "metadata": {
  "kernelspec": {
   "display_name": "Python 3 (ipykernel)",
   "language": "python",
   "name": "python3"
  },
  "language_info": {
   "codemirror_mode": {
    "name": "ipython",
    "version": 3
   },
   "file_extension": ".py",
   "mimetype": "text/x-python",
   "name": "python",
   "nbconvert_exporter": "python",
   "pygments_lexer": "ipython3",
   "version": "3.10.9"
  }
 },
 "nbformat": 4,
 "nbformat_minor": 2
}
